{
 "cells": [
  {
   "cell_type": "markdown",
   "id": "2d7d830c",
   "metadata": {},
   "source": [
    "# Final Project: Black Friday Excel Data"
   ]
  },
  {
   "cell_type": "markdown",
   "id": "b323bd31",
   "metadata": {},
   "source": [
    "## Part 1\n",
    "\n",
    "First, read in maven_ski_shop_data.xlsx\n",
    "\n",
    "Then, assign the orders worksheet to an intuitive variable name. "
   ]
  },
  {
   "cell_type": "code",
   "execution_count": 2,
   "id": "63bb1bb7",
   "metadata": {},
   "outputs": [
    {
     "name": "stdout",
     "output_type": "stream",
     "text": [
      "Libraries are working!\n"
     ]
    }
   ],
   "source": [
    "import pandas as pd\n",
    "import openpyxl\n",
    "\n",
    "print(\"Libraries are working!\")\n"
   ]
  },
  {
   "cell_type": "code",
   "execution_count": 4,
   "id": "48be03ab",
   "metadata": {},
   "outputs": [
    {
     "name": "stdout",
     "output_type": "stream",
     "text": [
      "   Product_ID Product_Name  Price   Cost        Available Sizes  Euro Price  \\\n",
      "0       10001       Coffee   5.99   0.99                  250mL        5.27   \n",
      "1       10002       Beanie   9.99   4.29           Child, Adult        8.79   \n",
      "2       10003       Gloves  19.99   7.99           Child, Adult       17.59   \n",
      "3       10004   Sweatshirt  24.99  10.59  XS, S, M, L , XL, XXL       21.99   \n",
      "4       10005       Helmet  99.99  49.99           Child, Adult       87.99   \n",
      "\n",
      "   GBP Price  JPY Price  \n",
      "0       4.55     736.77  \n",
      "1       7.59    1228.77  \n",
      "2      15.19    2458.77  \n",
      "3      18.99    3073.77  \n",
      "4      75.99   12298.77  \n"
     ]
    }
   ],
   "source": [
    "file_path = r'C:\\Users\\admin\\Desktop\\maven_ski_shop_data.xlsx'  # Raw string\n",
    "data = pd.read_excel(file_path)\n",
    "\n",
    "# Display the first few rows of the data\n",
    "print(data.head())\n"
   ]
  },
  {
   "cell_type": "code",
   "execution_count": 5,
   "id": "b0b87c31",
   "metadata": {},
   "outputs": [
    {
     "name": "stdout",
     "output_type": "stream",
     "text": [
      "   Order_ID Customer_ID  Order_Date  Subtotal  Tax  Total    Location  \\\n",
      "0    100000      C00004  11/26/2021     15.98  NaN    NaN  Sun Valley   \n",
      "1    100001      C00007  11/26/2021    899.97  NaN    NaN       Stowe   \n",
      "2    100002      C00015  11/26/2021    799.97  NaN    NaN     Mammoth   \n",
      "3    100003      C00016  11/26/2021    117.96  NaN    NaN       Stowe   \n",
      "4    100004      C00020  11/26/2021      5.99  NaN    NaN  Sun Valley   \n",
      "\n",
      "                Items_Ordered  \n",
      "0                10001, 10002  \n",
      "1         10008, 10009, 10010  \n",
      "2         10011, 10012, 10013  \n",
      "3  10002, 10003, 10004, 10006  \n",
      "4                       10001  \n"
     ]
    }
   ],
   "source": [
    "# Load the specific sheet named 'Orders_Info' and assign an intuitive variable name\n",
    "df_orders = pd.read_excel(file_path, sheet_name='Orders_Info')\n",
    "\n",
    "# Display the first few rows to confirm\n",
    "print(df_orders.head())\n"
   ]
  },
  {
   "cell_type": "markdown",
   "id": "0fdff76c",
   "metadata": {},
   "source": [
    "### Column Printer Function\n",
    "\n",
    "Since we'll be working with Excel frequently, let's create a helper function to print all the rows a specified column.\n",
    "\n",
    "This will help us view imported data without looking at Excel, and review the data we've written into columns without needing to save a file to review the changes.\n",
    "\n",
    "Your function should take two arguments:\n",
    "\n",
    "* Worksheet where data is located\n",
    "* Column Letter of data to print\n",
    "\n",
    "Your function should:\n",
    "\n",
    "* Print Cell Coordinate (e.g. A1, D4).\n",
    "* Print the contents of the cell.\n",
    "\n",
    "Then call your function twice:\n",
    "\n",
    "* Once to print Order ID (column A in 'Orders_Info')\n",
    "* Once to print subtotal (column D in 'Orders_Info')"
   ]
  },
  {
   "cell_type": "code",
   "execution_count": 6,
   "id": "239d64b3",
   "metadata": {},
   "outputs": [],
   "source": [
    "def column_printer(dataframe, column_letter):\n",
    "    \"\"\"\n",
    "    Prints cell coordinates and contents for a specific column.\n",
    "\n",
    "    Args:\n",
    "    dataframe (pd.DataFrame): The DataFrame containing the data.\n",
    "    column_letter (str): The letter of the column to print (e.g., 'A', 'D').\n",
    "\n",
    "    \"\"\"\n",
    "    # Map column letters to column indices (e.g., A -> 0, B -> 1)\n",
    "    column_index = ord(column_letter.upper()) - ord('A')  # Convert column letter to zero-based index\n",
    "\n",
    "    # Iterate through the rows of the DataFrame\n",
    "    for row_index in range(len(dataframe)):\n",
    "        # Generate cell coordinate (e.g., A1, A2)\n",
    "        cell_coordinate = f\"{column_letter}{row_index + 1}\"  # Add 1 to row_index to match Excel row numbers\n",
    "\n",
    "        # Get the value in the specified column\n",
    "        cell_value = dataframe.iloc[row_index, column_index]\n",
    "\n",
    "        # Print the coordinate and value\n",
    "        print(f\"{cell_coordinate}: {cell_value}\")\n"
   ]
  },
  {
   "cell_type": "code",
   "execution_count": 7,
   "id": "cc8e789b",
   "metadata": {},
   "outputs": [
    {
     "name": "stdout",
     "output_type": "stream",
     "text": [
      "Order_ID Column:\n",
      "A1: 100000\n",
      "A2: 100001\n",
      "A3: 100002\n",
      "A4: 100003\n",
      "A5: 100004\n",
      "A6: 100005\n",
      "A7: 100006\n",
      "A8: 100007\n",
      "A9: 100008\n",
      "A10: 100009\n",
      "A11: 100010\n",
      "A12: 100011\n",
      "A13: 100012\n",
      "A14: 100013\n",
      "A15: 100014\n",
      "A16: 100020\n",
      "A17: 100021\n",
      "A18: 100022\n",
      "A19: 100023\n",
      "A20: 100024\n",
      "A21: 100025\n",
      "A22: 100026\n",
      "A23: 100027\n",
      "A24: 100031\n",
      "A25: 100032\n",
      "A26: 100033\n",
      "A27: 100034\n"
     ]
    }
   ],
   "source": [
    "# Print Order_ID (Column A)\n",
    "print(\"Order_ID Column:\")\n",
    "column_printer(df_orders, \"A\")"
   ]
  },
  {
   "cell_type": "code",
   "execution_count": 8,
   "id": "6f1c3143",
   "metadata": {},
   "outputs": [
    {
     "name": "stdout",
     "output_type": "stream",
     "text": [
      "\n",
      "Subtotal Column:\n",
      "D1: 15.98\n",
      "D2: 899.97\n",
      "D3: 799.97\n",
      "D4: 117.96\n",
      "D5: 5.99\n",
      "D6: 599.99\n",
      "D7: 24.99\n",
      "D8: 1799.94\n",
      "D9: 99.99\n",
      "D10: 254.95\n",
      "D11: 29.98\n",
      "D12: 99.99\n",
      "D13: 25.98\n",
      "D14: 649.98\n",
      "D15: 89.99\n",
      "D16: 119.99\n",
      "D17: 599.99\n",
      "D18: 649.98\n",
      "D19: 24.99\n",
      "D20: 99.99\n",
      "D21: 99.99\n",
      "D22: 5.99\n",
      "D23: 24.99\n",
      "D24: 999.96\n",
      "D25: 99.99\n",
      "D26: 399.97\n",
      "D27: 89.99\n"
     ]
    }
   ],
   "source": [
    "# Print Subtotal (Column D)\n",
    "print(\"\\nSubtotal Column:\")\n",
    "column_printer(df_orders, \"D\")"
   ]
  },
  {
   "cell_type": "markdown",
   "id": "b4b6d8ea",
   "metadata": {},
   "source": [
    "### Order Data Dictionary\n",
    "\n",
    "Create a dictionary with all of the information contained in the 'Orders_Info' Worksheet.\n",
    "\n",
    "* The dictionary keys should be Order IDs (Column A)\n",
    "* The values should a list storing the data in the rest of the columns.\n",
    "* The columns in the list stored as values should be B, C, D, G, and H (after converting to list). \n",
    "* For example: The first order, column H should be the nested list: [10001, 10002]\n",
    "\n",
    "\n",
    "A few notes:\n",
    "\n",
    "* Convert the Items_Ordered field into a list (we covered a helpful string method for this)\n",
    "* This can be done with a dictionary comprehension\n",
    "* DO NOT INCLUDE EXCEL COLUMN HEADERS"
   ]
  },
  {
   "cell_type": "code",
   "execution_count": 12,
   "id": "57bb5e41",
   "metadata": {},
   "outputs": [
    {
     "name": "stdout",
     "output_type": "stream",
     "text": [
      "{100000: ['C00004', '11/26/2021', 15.98, 'Sun Valley', [10001, 10002]], 100001: ['C00007', '11/26/2021', 899.97, 'Stowe', [10008, 10009, 10010]], 100002: ['C00015', '11/26/2021', 799.97, 'Mammoth', [10011, 10012, 10013]], 100003: ['C00016', '11/26/2021', 117.96, 'Stowe', [10002, 10003, 10004, 10006]], 100004: ['C00020', '11/26/2021', 5.99, 'Sun Valley', [10001]], 100005: ['C00010', '11/26/2021', 599.99, 'Mammoth', [10010]], 100006: ['C00006', '11/26/2021', 24.99, 'Mammoth', [10004]], 100007: ['C00001', '11/26/2021', 1799.94, 'Mammoth', [10008, 10008, 10009, 10009, 10009, 10010, 10010]], 100008: ['C00003', '11/26/2021', 99.99, 'Sun Valley', [10005]], 100009: ['C00014', '11/26/2021', 254.95, 'Sun Valley', [10002, 10003, 10004, 10006, 10007]], 100010: ['C00001', '11/26/2021', 29.98, 'Mammoth', [10002, 10003]], 100011: ['C00001', '11/26/2021', 99.99, 'Mammoth', [10005]], 100012: ['C00005', '11/26/2021', 25.98, 'Sun Valley', [10001, 10003]], 100013: ['C00008', '11/26/2021', 649.98, 'Stowe', [10012, 10013]], 100014: ['C00013', '11/26/2021', 89.99, 'Sun Valley', [10014]], 100020: ['C00004', '11/27/2021', 119.99, 'Sun Valley', [10007]], 100021: ['C00017', '11/27/2021', 599.99, 'Stowe', [10010]], 100022: ['C00019', '11/27/2021', 649.98, 'Sun Valley', [10012, 10013]], 100023: ['C00002', '11/27/2021', 24.99, 'Stowe', [10004]], 100024: ['C00008', '11/27/2021', 99.99, 'Stowe', [10005]], 100025: ['C00021', '11/27/2021', 99.99, 'Mammoth', [10008]], 100026: ['C00022', '11/27/2021', 5.99, 'Sun Valley', [10001]], 100027: ['C00006', '11/28/2021', 24.99, 'Mammoth', [10002]], 100031: ['C00018', '11/28/2021', 999.96, 'Stowe', [10005, 10008, 10009, 10010]], 100032: ['C00018', '11/28/2021', 99.99, 'Stowe', [10006]], 100033: ['C00010', '11/28/2021', 399.97, 'Mammoth', [10005, 10008, 10009]], 100034: ['C00016', '11/28/2021', 89.99, 'Stowe', [10014]]}\n"
     ]
    }
   ],
   "source": [
    "# Check and replace with the correct column name\n",
    "order_data_dict = {\n",
    "    row['Order_ID']: [\n",
    "        row['Customer_ID'],               # Column B\n",
    "        row['Order_Date'],                # Column C\n",
    "        row['Subtotal'],                  # Column D\n",
    "        row['Location'],                  # Column G\n",
    "        [int(item) for item in str(row['Items_Ordered']).split(\", \") if pd.notna(row['Items_Ordered'])]\n",
    "    ]\n",
    "    for _, row in df_orders.iterrows()\n",
    "}\n",
    "\n",
    "# Print the resulting dictionary\n",
    "print(order_data_dict)\n"
   ]
  },
  {
   "cell_type": "markdown",
   "id": "0a01af28",
   "metadata": {},
   "source": [
    "### Sales Tax Calculation (Last time!)\n",
    "\n",
    "We need to calculate the sales tax and total amount owed for every order in this sheet.\n",
    "\n",
    "* If location is Sun Valley, apply a sales tax of 8%\n",
    "* If location is Mammoth, apply a sales tax of 7.75%.\n",
    "* If location is Stowe, apply a sales tax of 6%\n",
    "\n",
    "Use the tax_calculator function to apply sales tax to each subtotal.\n",
    "\n",
    "**Insert** the calculated sales tax and total amounts into your customer dictionary immediately after subtotal.\n",
    "\n",
    "**Tip**: Figure out how to do this once and then loop through the column."
   ]
  },
  {
   "cell_type": "code",
   "execution_count": 13,
   "id": "4e1c1e6a",
   "metadata": {
    "scrolled": false
   },
   "outputs": [],
   "source": [
    "def tax_calculator(subtotal, tax_rate):\n",
    "    \"\"\"\n",
    "    Calculate the tax amount and total based on the subtotal and tax rate.\n",
    "\n",
    "    Args:\n",
    "    subtotal (float): The subtotal amount.\n",
    "    tax_rate (float): The tax rate as a decimal (e.g., 0.08 for 8%).\n",
    "\n",
    "    Returns:\n",
    "    tuple: The tax amount and the total (subtotal + tax).\n",
    "    \"\"\"\n",
    "    tax_amount = subtotal * tax_rate\n",
    "    total = subtotal + tax_amount\n",
    "    return tax_amount, total\n"
   ]
  },
  {
   "cell_type": "code",
   "execution_count": 14,
   "id": "eab51a69",
   "metadata": {},
   "outputs": [],
   "source": [
    "# Define the tax rates for each location\n",
    "tax_rates = {\n",
    "    'Sun Valley': 0.08,\n",
    "    'Mammoth': 0.0775,\n",
    "    'Stowe': 0.06\n",
    "}\n",
    "\n",
    "# Create new columns for Tax and Total\n",
    "df_orders['Tax'] = 0.0\n",
    "df_orders['Total'] = 0.0\n",
    "\n",
    "# Loop through each order and calculate tax/total\n",
    "for index, row in df_orders.iterrows():\n",
    "    location = row['Location']\n",
    "    subtotal = row['Subtotal']\n",
    "    \n",
    "    # Get the tax rate for the location\n",
    "    tax_rate = tax_rates.get(location, 0.0)  # Default to 0.0 if location is not found\n",
    "\n",
    "    # Calculate tax and total\n",
    "    tax, total = tax_calculator(subtotal, tax_rate)\n",
    "\n",
    "    # Update the DataFrame\n",
    "    df_orders.at[index, 'Tax'] = tax\n",
    "    df_orders.at[index, 'Total'] = total\n"
   ]
  },
  {
   "cell_type": "code",
   "execution_count": 15,
   "id": "bef8d7e7",
   "metadata": {},
   "outputs": [],
   "source": [
    "# Update the order_data_dict with Tax and Total\n",
    "for order_id, values in order_data_dict.items():\n",
    "    subtotal = values[2]  # Subtotal is the third value in the list\n",
    "    location = values[3]  # Location is the fourth value in the list\n",
    "\n",
    "    # Get the tax rate for the location\n",
    "    tax_rate = tax_rates.get(location, 0.0)\n",
    "\n",
    "    # Calculate tax and total\n",
    "    tax, total = tax_calculator(subtotal, tax_rate)\n",
    "\n",
    "    # Insert tax and total into the dictionary (after Subtotal)\n",
    "    values.insert(3, tax)  # Insert tax after subtotal\n",
    "    values.insert(4, total)  # Insert total after tax\n"
   ]
  },
  {
   "cell_type": "code",
   "execution_count": 16,
   "id": "af7ea399",
   "metadata": {},
   "outputs": [
    {
     "name": "stdout",
     "output_type": "stream",
     "text": [
      "   Order_ID Customer_ID  Order_Date  Subtotal        Tax       Total  \\\n",
      "0    100000      C00004  11/26/2021     15.98   1.278400   17.258400   \n",
      "1    100001      C00007  11/26/2021    899.97  53.998200  953.968200   \n",
      "2    100002      C00015  11/26/2021    799.97  61.997675  861.967675   \n",
      "3    100003      C00016  11/26/2021    117.96   7.077600  125.037600   \n",
      "4    100004      C00020  11/26/2021      5.99   0.479200    6.469200   \n",
      "\n",
      "     Location               Items_Ordered  \n",
      "0  Sun Valley                10001, 10002  \n",
      "1       Stowe         10008, 10009, 10010  \n",
      "2     Mammoth         10011, 10012, 10013  \n",
      "3       Stowe  10002, 10003, 10004, 10006  \n",
      "4  Sun Valley                       10001  \n"
     ]
    }
   ],
   "source": [
    "#verify the updated dataframe\n",
    "print(df_orders.head())\n"
   ]
  },
  {
   "cell_type": "code",
   "execution_count": 17,
   "id": "8fe9e28d",
   "metadata": {},
   "outputs": [
    {
     "name": "stdout",
     "output_type": "stream",
     "text": [
      "Order ID: 100000\n",
      "Values: ['C00004', '11/26/2021', 15.98, 1.2784, 17.2584, 'Sun Valley', [10001, 10002]]\n",
      "Order ID: 100001\n",
      "Values: ['C00007', '11/26/2021', 899.97, 53.9982, 953.9682, 'Stowe', [10008, 10009, 10010]]\n",
      "Order ID: 100002\n",
      "Values: ['C00015', '11/26/2021', 799.97, 61.997675, 861.967675, 'Mammoth', [10011, 10012, 10013]]\n",
      "Order ID: 100003\n",
      "Values: ['C00016', '11/26/2021', 117.96, 7.0775999999999994, 125.0376, 'Stowe', [10002, 10003, 10004, 10006]]\n",
      "Order ID: 100004\n",
      "Values: ['C00020', '11/26/2021', 5.99, 0.4792, 6.4692, 'Sun Valley', [10001]]\n",
      "Order ID: 100005\n",
      "Values: ['C00010', '11/26/2021', 599.99, 46.499225, 646.489225, 'Mammoth', [10010]]\n",
      "Order ID: 100006\n",
      "Values: ['C00006', '11/26/2021', 24.99, 1.9367249999999998, 26.926724999999998, 'Mammoth', [10004]]\n",
      "Order ID: 100007\n",
      "Values: ['C00001', '11/26/2021', 1799.94, 139.49535, 1939.43535, 'Mammoth', [10008, 10008, 10009, 10009, 10009, 10010, 10010]]\n",
      "Order ID: 100008\n",
      "Values: ['C00003', '11/26/2021', 99.99, 7.9992, 107.9892, 'Sun Valley', [10005]]\n",
      "Order ID: 100009\n",
      "Values: ['C00014', '11/26/2021', 254.95, 20.396, 275.346, 'Sun Valley', [10002, 10003, 10004, 10006, 10007]]\n",
      "Order ID: 100010\n",
      "Values: ['C00001', '11/26/2021', 29.98, 2.3234500000000002, 32.30345, 'Mammoth', [10002, 10003]]\n",
      "Order ID: 100011\n",
      "Values: ['C00001', '11/26/2021', 99.99, 7.749224999999999, 107.73922499999999, 'Mammoth', [10005]]\n",
      "Order ID: 100012\n",
      "Values: ['C00005', '11/26/2021', 25.98, 2.0784000000000002, 28.0584, 'Sun Valley', [10001, 10003]]\n",
      "Order ID: 100013\n",
      "Values: ['C00008', '11/26/2021', 649.98, 38.9988, 688.9788, 'Stowe', [10012, 10013]]\n",
      "Order ID: 100014\n",
      "Values: ['C00013', '11/26/2021', 89.99, 7.199199999999999, 97.1892, 'Sun Valley', [10014]]\n",
      "Order ID: 100020\n",
      "Values: ['C00004', '11/27/2021', 119.99, 9.5992, 129.5892, 'Sun Valley', [10007]]\n",
      "Order ID: 100021\n",
      "Values: ['C00017', '11/27/2021', 599.99, 35.9994, 635.9894, 'Stowe', [10010]]\n",
      "Order ID: 100022\n",
      "Values: ['C00019', '11/27/2021', 649.98, 51.998400000000004, 701.9784, 'Sun Valley', [10012, 10013]]\n",
      "Order ID: 100023\n",
      "Values: ['C00002', '11/27/2021', 24.99, 1.4993999999999998, 26.4894, 'Stowe', [10004]]\n",
      "Order ID: 100024\n",
      "Values: ['C00008', '11/27/2021', 99.99, 5.9994, 105.98939999999999, 'Stowe', [10005]]\n",
      "Order ID: 100025\n",
      "Values: ['C00021', '11/27/2021', 99.99, 7.749224999999999, 107.73922499999999, 'Mammoth', [10008]]\n",
      "Order ID: 100026\n",
      "Values: ['C00022', '11/27/2021', 5.99, 0.4792, 6.4692, 'Sun Valley', [10001]]\n",
      "Order ID: 100027\n",
      "Values: ['C00006', '11/28/2021', 24.99, 1.9367249999999998, 26.926724999999998, 'Mammoth', [10002]]\n",
      "Order ID: 100031\n",
      "Values: ['C00018', '11/28/2021', 999.96, 59.9976, 1059.9576, 'Stowe', [10005, 10008, 10009, 10010]]\n",
      "Order ID: 100032\n",
      "Values: ['C00018', '11/28/2021', 99.99, 5.9994, 105.98939999999999, 'Stowe', [10006]]\n",
      "Order ID: 100033\n",
      "Values: ['C00010', '11/28/2021', 399.97, 30.997675, 430.96767500000004, 'Mammoth', [10005, 10008, 10009]]\n",
      "Order ID: 100034\n",
      "Values: ['C00016', '11/28/2021', 89.99, 5.399399999999999, 95.3894, 'Stowe', [10014]]\n"
     ]
    }
   ],
   "source": [
    "#verify the updated dictionary\n",
    "for order_id, values in order_data_dict.items():\n",
    "    print(f\"Order ID: {order_id}\")\n",
    "    print(f\"Values: {values}\")\n"
   ]
  },
  {
   "cell_type": "markdown",
   "id": "5d3460da",
   "metadata": {},
   "source": [
    "### Write Sales Tax and Total Into the Excel Sheet\n",
    "\n",
    "\n",
    "Great job! Now we just need to write this data into the workbook.\n",
    "\n",
    "Write the sales tax and total you just calculated into the workbook, then save!\n",
    "\n",
    "Call this workbook 'maven_ski_shop_data_fixed'.\n",
    "\n",
    "**Tip:** There are a few ways to do this. As always, be patient, solve one step at a time."
   ]
  },
  {
   "cell_type": "code",
   "execution_count": 18,
   "id": "957e2656",
   "metadata": {},
   "outputs": [],
   "source": [
    "import pandas as pd\n",
    "from openpyxl import load_workbook\n"
   ]
  },
  {
   "cell_type": "code",
   "execution_count": 19,
   "id": "0ed681d9",
   "metadata": {},
   "outputs": [],
   "source": [
    "# Load the workbook\n",
    "workbook = load_workbook(file_path)\n",
    "\n",
    "# Select the worksheet\n",
    "worksheet = workbook['Orders_Info'] \n"
   ]
  },
  {
   "cell_type": "code",
   "execution_count": 20,
   "id": "5cbcfc9b",
   "metadata": {},
   "outputs": [],
   "source": [
    "# Find the starting row (skip the header row)\n",
    "starting_row = 2  # Assuming the header is in row 1\n",
    "\n",
    "# Write the data for Tax and Total\n",
    "for index, row in df_orders.iterrows():\n",
    "    tax_cell = f\"H{starting_row + index}\"  # Column H for Tax\n",
    "    total_cell = f\"I{starting_row + index}\"  # Column I for Total\n",
    "\n",
    "    # Calculated values to the corresponding cells\n",
    "    worksheet[tax_cell] = row['Tax']\n",
    "    worksheet[total_cell] = row['Total']\n"
   ]
  },
  {
   "cell_type": "code",
   "execution_count": 21,
   "id": "3d40e2d0",
   "metadata": {},
   "outputs": [
    {
     "name": "stdout",
     "output_type": "stream",
     "text": [
      "Data written and saved successfully!\n"
     ]
    }
   ],
   "source": [
    "# Save the workbook with a new name\n",
    "workbook.save(\"maven_ski_shop_data_fixed.xlsx\")\n",
    "print(\"Data written and saved successfully!\")\n"
   ]
  },
  {
   "cell_type": "markdown",
   "id": "328ba670",
   "metadata": {},
   "source": [
    "## Part 2\n",
    "\n",
    "### Analysis Time!\n",
    "\n",
    "\n",
    "Now that we've fixed the data - it's time to perform analysis on our sales.\n",
    "\n",
    "Our starting point will be the order_dict we created, after we added the taxes and totals columns.\n",
    "\n",
    "Our first step will be to write a function that calculates the sum of a 'column' of data in our dictionary.\n",
    "\n",
    "A 'column' for example, would be subtotals, which is at index 2 in the list stored as our dictionary values.\n",
    "\n",
    "Your function should take the following arguments:\n",
    "\n",
    "* Column Index (the index of the data of interest in the list stored in our dictionary values)\n",
    "* Dictionary Name\n",
    "\n",
    "It should output:\n",
    "\n",
    "* The sum of values in the column (rounded to two decimal places)\n",
    "\n",
    "Assume only numeric values will be in the column (You can develop cleaning logic later :D)\n",
    "\n",
    "**Tip:** Use a list comprehension to retrieve the values of interest."
   ]
  },
  {
   "cell_type": "code",
   "execution_count": null,
   "id": "284693e9",
   "metadata": {},
   "outputs": [],
   "source": [
    "#Defining a function to sum a specific column in a dictionary\n",
    "def sum_column(column_index, dictionary):\n",
    "    \"\"\"\n",
    "    Calculate the sum of a specific column in a dictionary.\n",
    "\n",
    "    Args:\n",
    "    column_index (int): The index of the data in the list (e.g., 2 for subtotal).\n",
    "    dictionary (dict): The dictionary containing the data.\n",
    "\n",
    "    Returns:\n",
    "    float: The sum of values in the column, rounded to two decimal places.\n",
    "    \"\"\"\n",
    "    # Initialize the sum\n",
    "    total_sum = 0\n",
    "\n",
    "    # Iterate through the dictionary values\n",
    "    for values in dictionary.values():\n",
    "        total_sum += values[column_index]  # Add the value at the specified index\n",
    "\n",
    "    # Return the rounded sum\n",
    "    return round(total_sum, 2)\n"
   ]
  },
  {
   "cell_type": "code",
   "execution_count": 26,
   "id": "89d8bc61",
   "metadata": {},
   "outputs": [],
   "source": [
    "order_dict = {\n",
    "    100000: ['C00004', '11/26/2021', 15.98, 1.28, 17.26, 'Sun Valley', [10001, 10002]],\n",
    "    100001: ['C00007', '11/26/2021', 899.97, 71.998, 971.968, 'Stowe', [10008, 10009, 10010]],\n",
    "    100002: ['C00015', '11/26/2021', 799.97, 63.998, 863.968, 'Mammoth', [10011, 10012, 10013]]\n",
    "}"
   ]
  },
  {
   "cell_type": "markdown",
   "id": "d83413fe",
   "metadata": {},
   "source": [
    "#### Sum The Subtotal, Tax, and Total Columns \n",
    "\n",
    "Now that we have our column sum function, calculate the sum of:\n",
    "\n",
    "* Subtotals\n",
    "* Taxes\n",
    "* Totals"
   ]
  },
  {
   "cell_type": "code",
   "execution_count": 27,
   "id": "0f6cc8e9",
   "metadata": {},
   "outputs": [
    {
     "name": "stdout",
     "output_type": "stream",
     "text": [
      "Total Subtotal: 1715.92\n"
     ]
    }
   ],
   "source": [
    "subtotal_sum = sum_column(2, order_dict)  # Index 2 corresponds to Subtotal\n",
    "print(f\"Total Subtotal: {subtotal_sum}\")"
   ]
  },
  {
   "cell_type": "code",
   "execution_count": 28,
   "id": "2fe37e68",
   "metadata": {},
   "outputs": [
    {
     "name": "stdout",
     "output_type": "stream",
     "text": [
      "Total Tax: 137.28\n"
     ]
    }
   ],
   "source": [
    "tax_sum = sum_column(3, order_dict)  # Index 3 corresponds to Tax\n",
    "print(f\"Total Tax: {tax_sum}\")"
   ]
  },
  {
   "cell_type": "code",
   "execution_count": 29,
   "id": "e6a73f61",
   "metadata": {},
   "outputs": [
    {
     "name": "stdout",
     "output_type": "stream",
     "text": [
      "Total Sales: 1853.2\n"
     ]
    }
   ],
   "source": [
    "total_sum = sum_column(4, order_dict)  # Index 4 corresponds to Total\n",
    "print(f\"Total Sales: {total_sum}\")"
   ]
  },
  {
   "cell_type": "markdown",
   "id": "b2720242",
   "metadata": {},
   "source": [
    "### What is the average of our subtotals?\n",
    "\n",
    "Calculate the average value of our transactions.\n",
    "\n",
    "Remember that each entry in your dictionary is one order."
   ]
  },
  {
   "cell_type": "code",
   "execution_count": 30,
   "id": "1aa1093a",
   "metadata": {},
   "outputs": [
    {
     "name": "stdout",
     "output_type": "stream",
     "text": [
      "Average Subtotal: 571.97\n"
     ]
    }
   ],
   "source": [
    "def calculate_average_subtotal(order_dict):\n",
    "    \"\"\"\n",
    "    Calculate the average of the subtotals in the dictionary.\n",
    "\n",
    "    Args:\n",
    "    order_dict (dict): The dictionary containing order data.\n",
    "\n",
    "    Returns:\n",
    "    float: The average subtotal, rounded to two decimal places.\n",
    "    \"\"\"\n",
    "    total_subtotal = sum(values[2] for values in order_dict.values())\n",
    "    average_subtotal = total_subtotal / len(order_dict)\n",
    "    return round(average_subtotal, 2)\n",
    "\n",
    "# Calculate and print the average subtotal\n",
    "average_subtotal = calculate_average_subtotal(order_dict)\n",
    "print(f\"Average Subtotal: {average_subtotal}\")"
   ]
  },
  {
   "cell_type": "markdown",
   "id": "fa8f7168",
   "metadata": {},
   "source": [
    "### How many unique customers did we have?\n",
    "\n",
    "Calculate the total number of unique customers in our sales data.\n",
    "\n",
    "Then calculate the number of orders per customer (total orders / unique customers)"
   ]
  },
  {
   "cell_type": "code",
   "execution_count": 31,
   "id": "7af182d6",
   "metadata": {},
   "outputs": [
    {
     "name": "stdout",
     "output_type": "stream",
     "text": [
      "Number of Unique Customers: 3\n",
      "Average Orders per Customer: 1.0\n"
     ]
    }
   ],
   "source": [
    "def calculate_unique_customers(order_dict):\n",
    "    \"\"\"\n",
    "    Calculate the total number of unique customers.\n",
    "\n",
    "    Args:\n",
    "    order_dict (dict): The dictionary containing order data.\n",
    "\n",
    "    Returns:\n",
    "    tuple: The number of unique customers and orders per customer.\n",
    "    \"\"\"\n",
    "    # Extract unique customer IDs\n",
    "    unique_customers = {values[0] for values in order_dict.values()}  # Index 0 is Customer_ID\n",
    "    total_orders = len(order_dict)\n",
    "    orders_per_customer = total_orders / len(unique_customers)\n",
    "    return len(unique_customers), round(orders_per_customer, 2)\n",
    "\n",
    "# Calculate and print unique customers and orders per customer\n",
    "unique_customers, orders_per_customer = calculate_unique_customers(order_dict)\n",
    "print(f\"Number of Unique Customers: {unique_customers}\")\n",
    "print(f\"Average Orders per Customer: {orders_per_customer}\")"
   ]
  },
  {
   "cell_type": "markdown",
   "id": "ff483459",
   "metadata": {},
   "source": [
    "### How many items in total did we sell?\n",
    "\n",
    "Calculate the total number of items we sold in across all orders. \n",
    "\n",
    "This information is in Column H, which should be the last element in order_dict's values."
   ]
  },
  {
   "cell_type": "code",
   "execution_count": 32,
   "id": "2f7d15ac",
   "metadata": {},
   "outputs": [
    {
     "name": "stdout",
     "output_type": "stream",
     "text": [
      "Total Items Sold: 8\n"
     ]
    }
   ],
   "source": [
    "def calculate_total_items(order_dict):\n",
    "    \"\"\"\n",
    "    Calculate the total number of items sold across all orders.\n",
    "\n",
    "    Args:\n",
    "    order_dict (dict): The dictionary containing order data.\n",
    "\n",
    "    Returns:\n",
    "    int: Total number of items sold.\n",
    "    \"\"\"\n",
    "    total_items = sum(len(values[-1]) for values in order_dict.values())  # Last element is the items list\n",
    "    return total_items\n",
    "\n",
    "# Calculate and print the total items sold\n",
    "total_items = calculate_total_items(order_dict)\n",
    "print(f\"Total Items Sold: {total_items}\")"
   ]
  },
  {
   "cell_type": "markdown",
   "id": "05abd311",
   "metadata": {},
   "source": [
    "### Sales By Location\n",
    "\n",
    "Calculate the sum of subtotals by location.\n",
    "\n",
    "Create a dictionary to store them, where location is the key, and revenue for that location is the value.\n",
    "\n",
    "A few steps to consider:\n",
    "\n",
    "* Loop through your dictionary\n",
    "* build a dictionary as you go with location as key\n",
    "* increment revenue every time a transaction matches the location.\n",
    "\n",
    "\n",
    "Your output should look like \n",
    "{'Location1': sum of subtotals for 'Location1'}\n",
    "\n",
    "With an entry for each location."
   ]
  },
  {
   "cell_type": "code",
   "execution_count": 33,
   "id": "960a8d1b",
   "metadata": {},
   "outputs": [
    {
     "name": "stdout",
     "output_type": "stream",
     "text": [
      "Sales by Location:\n",
      "{'Sun Valley': 15.98, 'Stowe': 899.97, 'Mammoth': 799.97}\n"
     ]
    }
   ],
   "source": [
    "def calculate_sales_by_location(order_dict):\n",
    "    \"\"\"\n",
    "    Calculate the sum of subtotals by location.\n",
    "\n",
    "    Args:\n",
    "    order_dict (dict): The dictionary containing order data.\n",
    "\n",
    "    Returns:\n",
    "    dict: A dictionary with locations as keys and subtotal sums as values.\n",
    "    \"\"\"\n",
    "    sales_by_location = {}\n",
    "\n",
    "    for values in order_dict.values():\n",
    "        location = values[5]  # Index 5 corresponds to Location\n",
    "        subtotal = values[2]  # Index 2 corresponds to Subtotal\n",
    "\n",
    "        # Add subtotal to the location's total\n",
    "        if location in sales_by_location:\n",
    "            sales_by_location[location] += subtotal\n",
    "        else:\n",
    "            sales_by_location[location] = subtotal\n",
    "\n",
    "    return sales_by_location\n",
    "\n",
    "# Calculate and print sales by location\n",
    "sales_by_location = calculate_sales_by_location(order_dict)\n",
    "print(\"Sales by Location:\")\n",
    "print(sales_by_location)\n"
   ]
  },
  {
   "cell_type": "markdown",
   "id": "a9ffa683",
   "metadata": {},
   "source": [
    "### Challenge: Aggregator Function\n",
    "\n",
    "Now that you've summed revenue by category (you just summed by location), can you write a function to generalize calculating a sum of a column, grouped by the unique values in another column? (for example, sum of totals by date or customer_id).\n",
    "\n",
    "Your function should take the following arguments:\n",
    "* index of the 'column' (index position in order_dict) to group by\n",
    "* index of the 'column' (index position in order_dict) to sum by category\n",
    "* the dictionary where the data is located (assume the same structure as order_dict.\n",
    "\n",
    "It should return:\n",
    "* A dictionary with the categories as keys, and the sum by category as value.\n",
    "\n",
    "Once you've done so use your function to sum totals by date and customer_id."
   ]
  },
  {
   "cell_type": "code",
   "execution_count": 35,
   "id": "9537c37d",
   "metadata": {},
   "outputs": [],
   "source": [
    "def aggregator(group_by_index, sum_index, order_dict):\n",
    "    \"\"\"\n",
    "    Generalized function to sum values in one column grouped by another.\n",
    "\n",
    "    Args:\n",
    "    group_by_index (int): Index of the column to group by.\n",
    "    sum_index (int): Index of the column to sum.\n",
    "    order_dict (dict): Dictionary containing the data.\n",
    "\n",
    "    Returns:\n",
    "    dict: A dictionary with categories as keys and the sum of values as values.\n",
    "    \"\"\"\n",
    "    aggregated_data = {}\n",
    "\n",
    "    for values in order_dict.values():\n",
    "        # Check if indices are within bounds\n",
    "        if len(values) > max(group_by_index, sum_index):\n",
    "            group_key = values[group_by_index]  # Extract the group key\n",
    "            value_to_sum = values[sum_index]   # Extract the value to sum\n",
    "\n",
    "            # Add value to the corresponding group\n",
    "            if group_key in aggregated_data:\n",
    "                aggregated_data[group_key] += value_to_sum\n",
    "            else:\n",
    "                aggregated_data[group_key] = value_to_sum\n",
    "        else:\n",
    "            print(f\"Skipping row due to missing data: {values}\")\n",
    "\n",
    "    return aggregated_data"
   ]
  },
  {
   "cell_type": "code",
   "execution_count": 36,
   "id": "249f26ac",
   "metadata": {},
   "outputs": [
    {
     "name": "stdout",
     "output_type": "stream",
     "text": [
      "Skipping row due to missing data: ['C00004', '11/26/2021', 15.98, 1.28, 17.26, 'Sun Valley', [10001, 10002]]\n",
      "Skipping row due to missing data: ['C00007', '11/26/2021', 899.97, 71.998, 971.968, 'Stowe', [10008, 10009, 10010]]\n",
      "Skipping row due to missing data: ['C00015', '11/26/2021', 799.97, 63.998, 863.968, 'Mammoth', [10011, 10012, 10013]]\n",
      "Totals by Location: {}\n"
     ]
    }
   ],
   "source": [
    "totals_by_location = aggregator(5, 7, order_dict)\n",
    "print(\"Totals by Location:\", totals_by_location)"
   ]
  }
 ],
 "metadata": {
  "kernelspec": {
   "display_name": "Python 3",
   "language": "python",
   "name": "python3"
  },
  "language_info": {
   "codemirror_mode": {
    "name": "ipython",
    "version": 3
   },
   "file_extension": ".py",
   "mimetype": "text/x-python",
   "name": "python",
   "nbconvert_exporter": "python",
   "pygments_lexer": "ipython3",
   "version": "3.12.4"
  }
 },
 "nbformat": 4,
 "nbformat_minor": 5
}
